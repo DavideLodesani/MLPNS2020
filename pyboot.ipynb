{
  "nbformat": 4,
  "nbformat_minor": 0,
  "metadata": {
    "colab": {
      "name": "pyboot.ipynb",
      "provenance": [],
      "collapsed_sections": [],
      "authorship_tag": "ABX9TyPPweqw4i0bSvbwpkbIkVK1",
      "include_colab_link": true
    },
    "kernelspec": {
      "name": "python3",
      "display_name": "Python 3"
    }
  },
  "cells": [
    {
      "cell_type": "markdown",
      "metadata": {
        "id": "view-in-github",
        "colab_type": "text"
      },
      "source": [
        "<a href=\"https://colab.research.google.com/github/DavideLodesani/MLPNS2021/blob/main/pyboot.ipynb\" target=\"_parent\"><img src=\"https://colab.research.google.com/assets/colab-badge.svg\" alt=\"Open In Colab\"/></a>"
      ]
    },
    {
      "cell_type": "code",
      "metadata": {
        "id": "zu4CFcIzdJsR",
        "colab": {
          "base_uri": "https://localhost:8080/"
        },
        "outputId": "c4b61d78-9ba1-477a-d3de-5e04a06db14d"
      },
      "source": [
        "print(\"hello\")"
      ],
      "execution_count": 28,
      "outputs": [
        {
          "output_type": "stream",
          "text": [
            "hello\n"
          ],
          "name": "stdout"
        }
      ]
    },
    {
      "cell_type": "code",
      "metadata": {
        "id": "iO_CGtDPeawV"
      },
      "source": [
        "from __future__ import print_function, division\r\n"
      ],
      "execution_count": 29,
      "outputs": []
    },
    {
      "cell_type": "code",
      "metadata": {
        "colab": {
          "base_uri": "https://localhost:8080/"
        },
        "id": "MQZzp-XSe3LR",
        "outputId": "7d6af241-4082-4e08-8720-21e67195551e"
      },
      "source": [
        "stringVariable = \"hello!\"\r\n",
        "print(stringVariable)"
      ],
      "execution_count": 30,
      "outputs": [
        {
          "output_type": "stream",
          "text": [
            "hello!\n"
          ],
          "name": "stdout"
        }
      ]
    },
    {
      "cell_type": "code",
      "metadata": {
        "id": "AsBLXXxygXwN"
      },
      "source": [
        "intVariable = 3"
      ],
      "execution_count": 31,
      "outputs": []
    },
    {
      "cell_type": "code",
      "metadata": {
        "id": "LMLGRZYghMzk"
      },
      "source": [
        "floatVariable = 3.\r\n"
      ],
      "execution_count": 32,
      "outputs": []
    },
    {
      "cell_type": "code",
      "metadata": {
        "id": "tH-bwLXlhR5s",
        "colab": {
          "base_uri": "https://localhost:8080/"
        },
        "outputId": "b735fb20-35ec-463f-d694-1bda408234ef"
      },
      "source": [
        "intVariable * floatVariable"
      ],
      "execution_count": 33,
      "outputs": [
        {
          "output_type": "execute_result",
          "data": {
            "text/plain": [
              "9.0"
            ]
          },
          "metadata": {
            "tags": []
          },
          "execution_count": 33
        }
      ]
    },
    {
      "cell_type": "code",
      "metadata": {
        "colab": {
          "base_uri": "https://localhost:8080/"
        },
        "id": "gSitEXgghji7",
        "outputId": "dd34d830-0f60-4b3f-d7f9-ceca2f798c1d"
      },
      "source": [
        "int(intVariable * floatVariable)"
      ],
      "execution_count": 34,
      "outputs": [
        {
          "output_type": "execute_result",
          "data": {
            "text/plain": [
              "9"
            ]
          },
          "metadata": {
            "tags": []
          },
          "execution_count": 34
        }
      ]
    },
    {
      "cell_type": "code",
      "metadata": {
        "colab": {
          "base_uri": "https://localhost:8080/",
          "height": 35
        },
        "id": "gZkOmessh56U",
        "outputId": "764cab4c-dab9-40f5-d614-a501a58e7585"
      },
      "source": [
        "str(intVariable * floatVariable)"
      ],
      "execution_count": 35,
      "outputs": [
        {
          "output_type": "execute_result",
          "data": {
            "application/vnd.google.colaboratory.intrinsic+json": {
              "type": "string"
            },
            "text/plain": [
              "'9.0'"
            ]
          },
          "metadata": {
            "tags": []
          },
          "execution_count": 35
        }
      ]
    },
    {
      "cell_type": "code",
      "metadata": {
        "id": "jz0RMVM9iD4S"
      },
      "source": [
        "boolVar = True"
      ],
      "execution_count": 36,
      "outputs": []
    },
    {
      "cell_type": "code",
      "metadata": {
        "colab": {
          "base_uri": "https://localhost:8080/"
        },
        "id": "liCXQwlMiJ-N",
        "outputId": "d8155372-3374-453a-caf7-bed3425100df"
      },
      "source": [
        "boolVar\r\n"
      ],
      "execution_count": 37,
      "outputs": [
        {
          "output_type": "execute_result",
          "data": {
            "text/plain": [
              "True"
            ]
          },
          "metadata": {
            "tags": []
          },
          "execution_count": 37
        }
      ]
    },
    {
      "cell_type": "code",
      "metadata": {
        "colab": {
          "base_uri": "https://localhost:8080/"
        },
        "id": "InThEqTTiNdN",
        "outputId": "304e9d16-e9b3-42ad-fb09-6aa7b2faa33c"
      },
      "source": [
        "(type(floatVariable)== float)"
      ],
      "execution_count": 38,
      "outputs": [
        {
          "output_type": "execute_result",
          "data": {
            "text/plain": [
              "True"
            ]
          },
          "metadata": {
            "tags": []
          },
          "execution_count": 38
        }
      ]
    },
    {
      "cell_type": "code",
      "metadata": {
        "colab": {
          "base_uri": "https://localhost:8080/"
        },
        "id": "DW3E_n0eij-0",
        "outputId": "c5a0bf68-f026-49b7-b635-8b4681ff167d"
      },
      "source": [
        "if not type(floatVariable) == float:\r\n",
        "  print (\"yes its a float\")\r\n",
        "else :\r\n",
        "  print(\"nope\")"
      ],
      "execution_count": 39,
      "outputs": [
        {
          "output_type": "stream",
          "text": [
            "nope\n"
          ],
          "name": "stdout"
        }
      ]
    },
    {
      "cell_type": "code",
      "metadata": {
        "colab": {
          "base_uri": "https://localhost:8080/"
        },
        "id": "1u0FDpjUjCPV",
        "outputId": "cc72e200-b395-45e6-83e7-1018a07e73fd"
      },
      "source": [
        "if type(floatVariable) == float or floatVariable > 0:\r\n",
        "  print (\"yes its a float > 1\")"
      ],
      "execution_count": 40,
      "outputs": [
        {
          "output_type": "stream",
          "text": [
            "yes its a float > 1\n"
          ],
          "name": "stdout"
        }
      ]
    },
    {
      "cell_type": "code",
      "metadata": {
        "colab": {
          "base_uri": "https://localhost:8080/"
        },
        "id": "e1v2hwPJj76-",
        "outputId": "0128af62-e7b3-455f-9d03-6a5e639a3849"
      },
      "source": [
        "a=0\r\n",
        "while a is not 10:\r\n",
        "  a = a+1\r\n",
        "  print(a) #questo si utilizza per mettere commenti "
      ],
      "execution_count": 41,
      "outputs": [
        {
          "output_type": "stream",
          "text": [
            "1\n",
            "2\n",
            "3\n",
            "4\n",
            "5\n",
            "6\n",
            "7\n",
            "8\n",
            "9\n",
            "10\n"
          ],
          "name": "stdout"
        }
      ]
    },
    {
      "cell_type": "markdown",
      "metadata": {
        "id": "1RkQfeBoWDAY"
      },
      "source": [
        "# Seconda Lezione"
      ]
    },
    {
      "cell_type": "markdown",
      "metadata": {
        "id": "6_5nv7FIWVWY"
      },
      "source": [
        "Per scrivere dei testi devo utilizzare il comando text in alto ed in questo modo posso scrivere senza che python creda che questo sia un codice"
      ]
    },
    {
      "cell_type": "markdown",
      "metadata": {
        "id": "DAwIVvVcaNYZ"
      },
      "source": [
        "**Variable containers**"
      ]
    },
    {
      "cell_type": "code",
      "metadata": {
        "colab": {
          "base_uri": "https://localhost:8080/"
        },
        "id": "rfX4qYRGaSZ9",
        "outputId": "56494825-fc69-4649-d023-6343fab94ce1"
      },
      "source": [
        "mylist = [0, 1, 3,]\r\n",
        "mylist"
      ],
      "execution_count": 42,
      "outputs": [
        {
          "output_type": "execute_result",
          "data": {
            "text/plain": [
              "[0, 1, 3]"
            ]
          },
          "metadata": {
            "tags": []
          },
          "execution_count": 42
        }
      ]
    },
    {
      "cell_type": "code",
      "metadata": {
        "colab": {
          "base_uri": "https://localhost:8080/"
        },
        "id": "JIzk4gNbaiYA",
        "outputId": "252ac088-3e47-4cf0-9afb-56979d272a85"
      },
      "source": [
        "myList = [0, 1, 3, \"hello\", 3.3]\r\n",
        "myList"
      ],
      "execution_count": 46,
      "outputs": [
        {
          "output_type": "execute_result",
          "data": {
            "text/plain": [
              "[0, 1, 3, 'hello', 3.3]"
            ]
          },
          "metadata": {
            "tags": []
          },
          "execution_count": 46
        }
      ]
    },
    {
      "cell_type": "code",
      "metadata": {
        "colab": {
          "base_uri": "https://localhost:8080/",
          "height": 35
        },
        "id": "_y-JqvTQa1c_",
        "outputId": "27dc1a82-b31f-4cdd-bcf4-35422f703d52"
      },
      "source": [
        "myList[3]"
      ],
      "execution_count": 49,
      "outputs": [
        {
          "output_type": "execute_result",
          "data": {
            "application/vnd.google.colaboratory.intrinsic+json": {
              "type": "string"
            },
            "text/plain": [
              "'hello'"
            ]
          },
          "metadata": {
            "tags": []
          },
          "execution_count": 49
        }
      ]
    },
    {
      "cell_type": "code",
      "metadata": {
        "colab": {
          "base_uri": "https://localhost:8080/",
          "height": 35
        },
        "id": "JqA7UIAhbEBp",
        "outputId": "8bd05bca-6142-4324-c35d-030924f5e875"
      },
      "source": [
        "stringVariable[1]"
      ],
      "execution_count": 51,
      "outputs": [
        {
          "output_type": "execute_result",
          "data": {
            "application/vnd.google.colaboratory.intrinsic+json": {
              "type": "string"
            },
            "text/plain": [
              "'e'"
            ]
          },
          "metadata": {
            "tags": []
          },
          "execution_count": 51
        }
      ]
    },
    {
      "cell_type": "code",
      "metadata": {
        "colab": {
          "base_uri": "https://localhost:8080/",
          "height": 35
        },
        "id": "V0a9iE_ObM_i",
        "outputId": "781dcd21-cea7-44e2-f8a7-8531ddd66eac"
      },
      "source": [
        "stringVariable + stringVariable"
      ],
      "execution_count": 53,
      "outputs": [
        {
          "output_type": "execute_result",
          "data": {
            "application/vnd.google.colaboratory.intrinsic+json": {
              "type": "string"
            },
            "text/plain": [
              "'hello!hello!'"
            ]
          },
          "metadata": {
            "tags": []
          },
          "execution_count": 53
        }
      ]
    },
    {
      "cell_type": "code",
      "metadata": {
        "colab": {
          "base_uri": "https://localhost:8080/"
        },
        "id": "L43MAzf_bW1Z",
        "outputId": "737b7a35-2538-465a-fc4a-1cb44a929083"
      },
      "source": [
        "myList + myList"
      ],
      "execution_count": 54,
      "outputs": [
        {
          "output_type": "execute_result",
          "data": {
            "text/plain": [
              "[0, 1, 3, 'hello', 3.3, 0, 1, 3, 'hello', 3.3]"
            ]
          },
          "metadata": {
            "tags": []
          },
          "execution_count": 54
        }
      ]
    },
    {
      "cell_type": "code",
      "metadata": {
        "colab": {
          "base_uri": "https://localhost:8080/"
        },
        "id": "xdIvra4WbcFO",
        "outputId": "08df8818-1d7a-4e3a-c7a0-9a1c58bb70fa"
      },
      "source": [
        "print('here I am in Parma but i am stuck in an appartment due to the lockdown'\r\n",
        "      'and i dont like it')"
      ],
      "execution_count": 56,
      "outputs": [
        {
          "output_type": "stream",
          "text": [
            "here I am in Parma but i am stuck in an appartment due to the lockdownand i dont like it\n"
          ],
          "name": "stdout"
        }
      ]
    },
    {
      "cell_type": "code",
      "metadata": {
        "colab": {
          "base_uri": "https://localhost:8080/"
        },
        "id": "2cADsvGdcAsv",
        "outputId": "8b3f78bf-a63d-44f1-fa6e-5c5fa3c0428e"
      },
      "source": [
        "for a in range(22): \r\n",
        "    print(a**2)"
      ],
      "execution_count": 58,
      "outputs": [
        {
          "output_type": "stream",
          "text": [
            "0\n",
            "1\n",
            "4\n",
            "9\n",
            "16\n",
            "25\n",
            "36\n",
            "49\n",
            "64\n",
            "81\n",
            "100\n",
            "121\n",
            "144\n",
            "169\n",
            "196\n",
            "225\n",
            "256\n",
            "289\n",
            "324\n",
            "361\n",
            "400\n",
            "441\n"
          ],
          "name": "stdout"
        }
      ]
    },
    {
      "cell_type": "code",
      "metadata": {
        "colab": {
          "base_uri": "https://localhost:8080/"
        },
        "id": "ftLrvvoacR4Q",
        "outputId": "7fc4eb31-1732-4a67-d4a1-18adfea144db"
      },
      "source": [
        "tmplist = []\r\n",
        "a = 0\r\n",
        "while a**2 < 300:\r\n",
        "  a = a+1\r\n",
        "  tmplist.append(a**2)\r\n",
        "tmplist"
      ],
      "execution_count": 63,
      "outputs": [
        {
          "output_type": "execute_result",
          "data": {
            "text/plain": [
              "[1, 4, 9, 16, 25, 36, 49, 64, 81, 100, 121, 144, 169, 196, 225, 256, 289, 324]"
            ]
          },
          "metadata": {
            "tags": []
          },
          "execution_count": 63
        }
      ]
    },
    {
      "cell_type": "markdown",
      "metadata": {
        "id": "MTICwUCpc3vQ"
      },
      "source": [
        "list are really useful cause they can contain hybrid types an because they do not need to be allocated memory before they are filled so I can append things on the fly "
      ]
    },
    {
      "cell_type": "code",
      "metadata": {
        "colab": {
          "base_uri": "https://localhost:8080/"
        },
        "id": "yRMmkySkdR-G",
        "outputId": "4362c6e3-9310-4356-8a4d-716c1deff8d2"
      },
      "source": [
        "dictVariable = {\"keyInt\": 0,\r\n",
        "                \"keyFloat\": 0.3,\r\n",
        "                \"keyString\" : \"Im a string\",\r\n",
        "                \"keyDict\": {} }\r\n",
        "dictVariable "
      ],
      "execution_count": 66,
      "outputs": [
        {
          "output_type": "execute_result",
          "data": {
            "text/plain": [
              "{'keyDict': {}, 'keyFloat': 0.3, 'keyInt': 0, 'keyString': 'Im a string'}"
            ]
          },
          "metadata": {
            "tags": []
          },
          "execution_count": 66
        }
      ]
    },
    {
      "cell_type": "code",
      "metadata": {
        "id": "R9F5lmuBed1l"
      },
      "source": [
        "dictVariable[\"keyDict\"]['nested1'] = 0.1"
      ],
      "execution_count": 67,
      "outputs": []
    },
    {
      "cell_type": "code",
      "metadata": {
        "colab": {
          "base_uri": "https://localhost:8080/",
          "height": 35
        },
        "id": "0BjSEN-0fawx",
        "outputId": "7549af8f-8f55-4be0-97f2-e827b0ed5b01"
      },
      "source": [
        "stringVariable.capitalize()"
      ],
      "execution_count": 69,
      "outputs": [
        {
          "output_type": "execute_result",
          "data": {
            "application/vnd.google.colaboratory.intrinsic+json": {
              "type": "string"
            },
            "text/plain": [
              "'Hello!'"
            ]
          },
          "metadata": {
            "tags": []
          },
          "execution_count": 69
        }
      ]
    },
    {
      "cell_type": "code",
      "metadata": {
        "colab": {
          "base_uri": "https://localhost:8080/",
          "height": 35
        },
        "id": "pZ7A1E-WgAyg",
        "outputId": "5055a3a5-fa45-459c-b0de-aaef2ec968f9"
      },
      "source": [
        "stringVariable #l'operazione di prima returns the value dunque non lo cambia \r\n",
        "               #permanentemente"
      ],
      "execution_count": 70,
      "outputs": [
        {
          "output_type": "execute_result",
          "data": {
            "application/vnd.google.colaboratory.intrinsic+json": {
              "type": "string"
            },
            "text/plain": [
              "'hello!'"
            ]
          },
          "metadata": {
            "tags": []
          },
          "execution_count": 70
        }
      ]
    },
    {
      "cell_type": "code",
      "metadata": {
        "colab": {
          "base_uri": "https://localhost:8080/"
        },
        "id": "zOpfMalygUZG",
        "outputId": "4938851c-28ad-49ca-c23f-31a105e52efc"
      },
      "source": [
        "print(\"Hello 'you'\")"
      ],
      "execution_count": 71,
      "outputs": [
        {
          "output_type": "stream",
          "text": [
            "Hello 'you'\n"
          ],
          "name": "stdout"
        }
      ]
    }
  ]
}